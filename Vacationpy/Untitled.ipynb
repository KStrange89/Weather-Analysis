{
 "cells": [
  {
   "cell_type": "code",
   "execution_count": 1,
   "metadata": {},
   "outputs": [],
   "source": [
    "import matplotlib.pyplot as plt\n",
    "import pandas as pd\n",
    "import numpy as np\n",
    "import requests\n",
    "import gmaps\n",
    "import os\n",
    "\n",
    "from api_keys import gkey"
   ]
  },
  {
   "cell_type": "code",
   "execution_count": null,
   "metadata": {},
   "outputs": [],
   "source": [
    "base_url = \"https://maps.googleapis.com/maps/api/place/nearbysearch/json\"\n",
    "radius = 5000\n",
    "marker_locations = []\n",
    "\n",
    "for index, row in vacation_spots.iterrows():\n",
    "    lat = vacation_spots.loc[index, 'Latitude']\n",
    "    lng = vacation_spots.loc[index, 'Longitude']\n",
    "    params = {\n",
    "        'location' : f'{lat}, {lng}',\n",
    "        'type' : 'hotel',\n",
    "        'radius' : radius,\n",
    "        'key' : gkey,\n",
    "    }\n",
    "    response = requests.get(base_url, params = params).json()\n",
    "    vacation_spots.loc[index, 'Hotel'] = response['results'][1]['name']\n",
    "    marker_locations.append((lat, lng))\n",
    "    \n",
    "vacation_spots"
   ]
  },
  {
   "cell_type": "code",
   "execution_count": null,
   "metadata": {},
   "outputs": [],
   "source": [
    "markers = gmaps.marker_layer(marker_locations)\n",
    "fig.add_layer(markers)\n",
    "fig"
   ]
  }
 ],
 "metadata": {
  "kernelspec": {
   "display_name": "Python 3",
   "language": "python",
   "name": "python3"
  },
  "language_info": {
   "codemirror_mode": {
    "name": "ipython",
    "version": 3
   },
   "file_extension": ".py",
   "mimetype": "text/x-python",
   "name": "python",
   "nbconvert_exporter": "python",
   "pygments_lexer": "ipython3",
   "version": "3.8.5"
  }
 },
 "nbformat": 4,
 "nbformat_minor": 4
}
