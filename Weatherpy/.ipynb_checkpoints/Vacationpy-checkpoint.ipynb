{
 "cells": [
  {
   "cell_type": "code",
   "execution_count": 1,
   "metadata": {},
   "outputs": [],
   "source": [
    "import matplotlib.pyplot as plt\n",
    "import pandas as pd\n",
    "import numpy as np\n",
    "import requests\n",
    "import gmaps\n",
    "import os\n",
    "\n",
    "from api_keys import gkey"
   ]
  },
  {
   "cell_type": "code",
   "execution_count": 2,
   "metadata": {},
   "outputs": [
    {
     "data": {
      "text/html": [
       "<div>\n",
       "<style scoped>\n",
       "    .dataframe tbody tr th:only-of-type {\n",
       "        vertical-align: middle;\n",
       "    }\n",
       "\n",
       "    .dataframe tbody tr th {\n",
       "        vertical-align: top;\n",
       "    }\n",
       "\n",
       "    .dataframe thead th {\n",
       "        text-align: right;\n",
       "    }\n",
       "</style>\n",
       "<table border=\"1\" class=\"dataframe\">\n",
       "  <thead>\n",
       "    <tr style=\"text-align: right;\">\n",
       "      <th></th>\n",
       "      <th>City</th>\n",
       "      <th>Country</th>\n",
       "      <th>Latitude</th>\n",
       "      <th>Longitude</th>\n",
       "      <th>Max Temperature</th>\n",
       "      <th>Humidity</th>\n",
       "      <th>Wind Speed</th>\n",
       "      <th>Cloudiness</th>\n",
       "      <th>Date</th>\n",
       "    </tr>\n",
       "  </thead>\n",
       "  <tbody>\n",
       "    <tr>\n",
       "      <th>0</th>\n",
       "      <td>Kapaa</td>\n",
       "      <td>US</td>\n",
       "      <td>22.0752</td>\n",
       "      <td>-159.3190</td>\n",
       "      <td>78.80</td>\n",
       "      <td>61</td>\n",
       "      <td>12.66</td>\n",
       "      <td>40</td>\n",
       "      <td>1618270419</td>\n",
       "    </tr>\n",
       "    <tr>\n",
       "      <th>1</th>\n",
       "      <td>Arraial do Cabo</td>\n",
       "      <td>BR</td>\n",
       "      <td>-22.9661</td>\n",
       "      <td>-42.0278</td>\n",
       "      <td>77.32</td>\n",
       "      <td>86</td>\n",
       "      <td>19.66</td>\n",
       "      <td>1</td>\n",
       "      <td>1618270601</td>\n",
       "    </tr>\n",
       "    <tr>\n",
       "      <th>2</th>\n",
       "      <td>Dzaoudzi</td>\n",
       "      <td>YT</td>\n",
       "      <td>-12.7887</td>\n",
       "      <td>45.2699</td>\n",
       "      <td>82.40</td>\n",
       "      <td>83</td>\n",
       "      <td>8.05</td>\n",
       "      <td>40</td>\n",
       "      <td>1618270601</td>\n",
       "    </tr>\n",
       "    <tr>\n",
       "      <th>3</th>\n",
       "      <td>Omsukchan</td>\n",
       "      <td>RU</td>\n",
       "      <td>62.5333</td>\n",
       "      <td>155.8000</td>\n",
       "      <td>-1.91</td>\n",
       "      <td>84</td>\n",
       "      <td>4.47</td>\n",
       "      <td>68</td>\n",
       "      <td>1618270601</td>\n",
       "    </tr>\n",
       "    <tr>\n",
       "      <th>4</th>\n",
       "      <td>Ribeira Grande</td>\n",
       "      <td>PT</td>\n",
       "      <td>38.5167</td>\n",
       "      <td>-28.7000</td>\n",
       "      <td>61.99</td>\n",
       "      <td>87</td>\n",
       "      <td>19.93</td>\n",
       "      <td>89</td>\n",
       "      <td>1618270602</td>\n",
       "    </tr>\n",
       "  </tbody>\n",
       "</table>\n",
       "</div>"
      ],
      "text/plain": [
       "              City Country  Latitude  Longitude  Max Temperature  Humidity  \\\n",
       "0            Kapaa      US   22.0752  -159.3190            78.80        61   \n",
       "1  Arraial do Cabo      BR  -22.9661   -42.0278            77.32        86   \n",
       "2         Dzaoudzi      YT  -12.7887    45.2699            82.40        83   \n",
       "3        Omsukchan      RU   62.5333   155.8000            -1.91        84   \n",
       "4   Ribeira Grande      PT   38.5167   -28.7000            61.99        87   \n",
       "\n",
       "   Wind Speed  Cloudiness        Date  \n",
       "0       12.66          40  1618270419  \n",
       "1       19.66           1  1618270601  \n",
       "2        8.05          40  1618270601  \n",
       "3        4.47          68  1618270601  \n",
       "4       19.93          89  1618270602  "
      ]
     },
     "execution_count": 2,
     "metadata": {},
     "output_type": "execute_result"
    }
   ],
   "source": [
    "# read weather data into a dataframe\n",
    "\n",
    "weather_df = pd.read_csv('../output_data/cities.csv')\n",
    "weather_df.head()"
   ]
  },
  {
   "cell_type": "code",
   "execution_count": 3,
   "metadata": {},
   "outputs": [
    {
     "data": {
      "text/plain": [
       "City                object\n",
       "Country             object\n",
       "Latitude           float64\n",
       "Longitude          float64\n",
       "Max Temperature    float64\n",
       "Humidity             int64\n",
       "Wind Speed         float64\n",
       "Cloudiness           int64\n",
       "Date                 int64\n",
       "dtype: object"
      ]
     },
     "execution_count": 3,
     "metadata": {},
     "output_type": "execute_result"
    }
   ],
   "source": [
    "# configure gmaps with API key\n",
    "\n",
    "gmaps.configure(api_key = gkey)"
   ]
  },
  {
   "cell_type": "code",
   "execution_count": 4,
   "metadata": {},
   "outputs": [],
   "source": [
    "# store latitude and longitude as location\n",
    "\n",
    "locations = weather_df[['Latitude', 'Longitude']]\n"
   ]
  },
  {
   "cell_type": "code",
   "execution_count": 38,
   "metadata": {},
   "outputs": [
    {
     "data": {
      "application/vnd.jupyter.widget-view+json": {
       "model_id": "bf2de13a63d74024a29649e704224b30",
       "version_major": 2,
       "version_minor": 0
      },
      "text/plain": [
       "Figure(layout=FigureLayout(height='420px'))"
      ]
     },
     "metadata": {},
     "output_type": "display_data"
    }
   ],
   "source": [
    "# create a humidity heatmap layer\n",
    "\n",
    "\n",
    "\n",
    "fig = gmaps.figure(center = (25,0), zoom_level = 1.65)\n",
    "\n",
    "heat_layer = gmaps.heatmap_layer(locations, weights = weather_df['Humidity'], \n",
    "                                 dissipating=False, max_intensity=100,\n",
    "                                 point_radius = 1)\n",
    "\n",
    "fig.add_layer(heat_layer)\n",
    "\n",
    "fig\n"
   ]
  },
  {
   "cell_type": "code",
   "execution_count": 39,
   "metadata": {},
   "outputs": [],
   "source": [
    "# new data frame with weather criteria\n",
    "\n",
    "low_temp = 50\n",
    "high_temp = 75\n",
    "hum_lvl = 70\n",
    "cloud = 75\n",
    "\n",
    "perfect_weather = weather_df.loc[(weather_df['Max Temperature'] >= low_temp) & \n",
    "                                 (weather_df['Max Temperature'] <= high_temp) &\n",
    "                                 (weather_df['Humidity'] >= hum_lvl) & \n",
    "                                 (weather_df['Cloudiness'] >= cloud)\n",
    "                                ]"
   ]
  },
  {
   "cell_type": "code",
   "execution_count": 40,
   "metadata": {},
   "outputs": [],
   "source": [
    "# limit options for sanity\n",
    "\n",
    "vacation_spots = perfect_weather.sample(n=5)\n",
    "vacation_spots['Hotel'] = ''"
   ]
  },
  {
   "cell_type": "code",
   "execution_count": 41,
   "metadata": {},
   "outputs": [
    {
     "data": {
      "text/html": [
       "<div>\n",
       "<style scoped>\n",
       "    .dataframe tbody tr th:only-of-type {\n",
       "        vertical-align: middle;\n",
       "    }\n",
       "\n",
       "    .dataframe tbody tr th {\n",
       "        vertical-align: top;\n",
       "    }\n",
       "\n",
       "    .dataframe thead th {\n",
       "        text-align: right;\n",
       "    }\n",
       "</style>\n",
       "<table border=\"1\" class=\"dataframe\">\n",
       "  <thead>\n",
       "    <tr style=\"text-align: right;\">\n",
       "      <th></th>\n",
       "      <th>City</th>\n",
       "      <th>Country</th>\n",
       "      <th>Latitude</th>\n",
       "      <th>Longitude</th>\n",
       "      <th>Max Temperature</th>\n",
       "      <th>Humidity</th>\n",
       "      <th>Wind Speed</th>\n",
       "      <th>Cloudiness</th>\n",
       "      <th>Date</th>\n",
       "      <th>Hotel</th>\n",
       "    </tr>\n",
       "  </thead>\n",
       "  <tbody>\n",
       "    <tr>\n",
       "      <th>183</th>\n",
       "      <td>Pontes e Lacerda</td>\n",
       "      <td>BR</td>\n",
       "      <td>-15.2261</td>\n",
       "      <td>-59.3353</td>\n",
       "      <td>70.39</td>\n",
       "      <td>95</td>\n",
       "      <td>1.32</td>\n",
       "      <td>77</td>\n",
       "      <td>1618270654</td>\n",
       "      <td>Hotel Bressan</td>\n",
       "    </tr>\n",
       "    <tr>\n",
       "      <th>559</th>\n",
       "      <td>Nosy Varika</td>\n",
       "      <td>MG</td>\n",
       "      <td>-20.5833</td>\n",
       "      <td>48.5333</td>\n",
       "      <td>72.66</td>\n",
       "      <td>93</td>\n",
       "      <td>6.58</td>\n",
       "      <td>98</td>\n",
       "      <td>1618270775</td>\n",
       "      <td>Nosy Varika Hospital</td>\n",
       "    </tr>\n",
       "    <tr>\n",
       "      <th>188</th>\n",
       "      <td>Shingū</td>\n",
       "      <td>JP</td>\n",
       "      <td>33.7333</td>\n",
       "      <td>135.9833</td>\n",
       "      <td>59.00</td>\n",
       "      <td>88</td>\n",
       "      <td>8.05</td>\n",
       "      <td>75</td>\n",
       "      <td>1618270656</td>\n",
       "      <td>Mehariya Shingu Honten</td>\n",
       "    </tr>\n",
       "    <tr>\n",
       "      <th>130</th>\n",
       "      <td>Esperance</td>\n",
       "      <td>AU</td>\n",
       "      <td>-33.8667</td>\n",
       "      <td>121.9000</td>\n",
       "      <td>51.80</td>\n",
       "      <td>100</td>\n",
       "      <td>18.41</td>\n",
       "      <td>75</td>\n",
       "      <td>1618270616</td>\n",
       "      <td>Hospitality Esperance</td>\n",
       "    </tr>\n",
       "    <tr>\n",
       "      <th>222</th>\n",
       "      <td>Wiarton</td>\n",
       "      <td>CA</td>\n",
       "      <td>44.7407</td>\n",
       "      <td>-81.1332</td>\n",
       "      <td>50.00</td>\n",
       "      <td>87</td>\n",
       "      <td>6.91</td>\n",
       "      <td>75</td>\n",
       "      <td>1618270667</td>\n",
       "      <td>Waterview On The Bay</td>\n",
       "    </tr>\n",
       "  </tbody>\n",
       "</table>\n",
       "</div>"
      ],
      "text/plain": [
       "                 City Country  Latitude  Longitude  Max Temperature  Humidity  \\\n",
       "183  Pontes e Lacerda      BR  -15.2261   -59.3353            70.39        95   \n",
       "559       Nosy Varika      MG  -20.5833    48.5333            72.66        93   \n",
       "188            Shingū      JP   33.7333   135.9833            59.00        88   \n",
       "130         Esperance      AU  -33.8667   121.9000            51.80       100   \n",
       "222           Wiarton      CA   44.7407   -81.1332            50.00        87   \n",
       "\n",
       "     Wind Speed  Cloudiness        Date                   Hotel  \n",
       "183        1.32          77  1618270654           Hotel Bressan  \n",
       "559        6.58          98  1618270775    Nosy Varika Hospital  \n",
       "188        8.05          75  1618270656  Mehariya Shingu Honten  \n",
       "130       18.41          75  1618270616   Hospitality Esperance  \n",
       "222        6.91          75  1618270667    Waterview On The Bay  "
      ]
     },
     "execution_count": 41,
     "metadata": {},
     "output_type": "execute_result"
    }
   ],
   "source": [
    "# find a hotel within 5000 metres of city coordinates\n",
    "# add hotel to dataframe\n",
    "\n",
    "base_url = \"https://maps.googleapis.com/maps/api/place/nearbysearch/json\"\n",
    "radius = 5000\n",
    "marker_locations = []\n",
    "\n",
    "for index, row in vacation_spots.iterrows():\n",
    "    lat = vacation_spots.loc[index, 'Latitude']\n",
    "    lng = vacation_spots.loc[index, 'Longitude']\n",
    "    params = {\n",
    "        'location' : f'{lat}, {lng}',\n",
    "        'type' : 'hotel',\n",
    "        'radius' : radius,\n",
    "        'key' : gkey,\n",
    "    }\n",
    "    response = requests.get(base_url, params = params).json()\n",
    "    vacation_spots.loc[index, 'Hotel'] = response['results'][1]['name']\n",
    "    marker_locations.append((lat, lng))\n",
    "    \n",
    "vacation_spots"
   ]
  },
  {
   "cell_type": "code",
   "execution_count": 42,
   "metadata": {},
   "outputs": [
    {
     "data": {
      "application/vnd.jupyter.widget-view+json": {
       "model_id": "bf2de13a63d74024a29649e704224b30",
       "version_major": 2,
       "version_minor": 0
      },
      "text/plain": [
       "Figure(layout=FigureLayout(height='420px'))"
      ]
     },
     "metadata": {},
     "output_type": "display_data"
    }
   ],
   "source": [
    "# add hotel marks to cities\n",
    "\n",
    "markers = gmaps.marker_layer(marker_locations)\n",
    "fig.add_layer(markers)\n",
    "fig\n",
    "    "
   ]
  },
  {
   "cell_type": "code",
   "execution_count": null,
   "metadata": {},
   "outputs": [],
   "source": []
  }
 ],
 "metadata": {
  "kernelspec": {
   "display_name": "Python 3",
   "language": "python",
   "name": "python3"
  },
  "language_info": {
   "codemirror_mode": {
    "name": "ipython",
    "version": 3
   },
   "file_extension": ".py",
   "mimetype": "text/x-python",
   "name": "python",
   "nbconvert_exporter": "python",
   "pygments_lexer": "ipython3",
   "version": "3.8.5"
  }
 },
 "nbformat": 4,
 "nbformat_minor": 4
}
